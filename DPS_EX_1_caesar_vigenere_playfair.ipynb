{
  "nbformat": 4,
  "nbformat_minor": 0,
  "metadata": {
    "colab": {
      "provenance": [],
      "include_colab_link": true
    },
    "kernelspec": {
      "name": "python3",
      "display_name": "Python 3"
    },
    "language_info": {
      "name": "python"
    }
  },
  "cells": [
    {
      "cell_type": "markdown",
      "metadata": {
        "id": "view-in-github",
        "colab_type": "text"
      },
      "source": [
        "<a href=\"https://colab.research.google.com/github/ChapelFob80930/DPS-Lab/blob/main/DPS_EX_1_caesar_vigenere_playfair.ipynb\" target=\"_parent\"><img src=\"https://colab.research.google.com/assets/colab-badge.svg\" alt=\"Open In Colab\"/></a>"
      ]
    },
    {
      "cell_type": "code",
      "execution_count": null,
      "metadata": {
        "colab": {
          "base_uri": "https://localhost:8080/"
        },
        "id": "l94B-Y6v5Cai",
        "outputId": "8a21c75e-7697-45a1-8f7d-1991a64ab714"
      },
      "outputs": [
        {
          "output_type": "stream",
          "name": "stdout",
          "text": [
            "Text   : WELCoMe\n",
            "Shift  : 4\n",
            "Cipher : AIPGsQi\n"
          ]
        }
      ],
      "source": [
        "def encrypt(te,s):\n",
        "  result = \"\"\n",
        "  # traverse text\n",
        "  for i in range(len(text)):\n",
        "    char = text[i]\n",
        "    # Encrypt uppercase characters\n",
        "    if (char.isupper()):\n",
        "      result += chr((ord(char) + s-65) % 26 + 65)\n",
        "    # Encrypt lowercase characters\n",
        "    else:\n",
        "      result += chr((ord(char) + s - 97) % 26 + 97)\n",
        "  return result\n",
        "#check the above function\n",
        "text = \"WELCoMe\"\n",
        "s = 4\n",
        "print(\"Text   : \" + text)\n",
        "print(\"Shift  : \" + str(s))\n",
        "print(\"Cipher : \" + encrypt(text,s))"
      ]
    },
    {
      "cell_type": "code",
      "source": [
        "def generate_key(msg, key):\n",
        "    key = list(key)\n",
        "    if len(msg) == len(key):\n",
        "        return (key)\n",
        "    else:\n",
        "        for i in range(len(msg) - len(key)):\n",
        "            key.append(key[i % len(key)])\n",
        "    return (\"\".join(key))\n",
        "\n",
        "def encrypt_vigenere(msg, key):\n",
        "    encrypted_text = []\n",
        "    key = generate_key(msg, key)\n",
        "    for i in range(len(msg)):\n",
        "        char = msg[i]\n",
        "        if char.isupper():\n",
        "            encrypted_char = chr((ord(char) + ord(key[i]) - 2 * ord('A')) % 26 + ord('A'))\n",
        "        elif char.islower():\n",
        "            encrypted_char = chr((ord(char) + ord(key[i]) - 2 * ord('a')) % 26 + ord('a'))\n",
        "        else:\n",
        "            encrypted_char = char\n",
        "        encrypted_text.append(encrypted_char)\n",
        "    return \"\".join(encrypted_text)\n",
        "\n",
        "def decrypt_vigenere(msg, key):\n",
        "    decrypted_text = []\n",
        "    key = generate_key(msg, key)\n",
        "    for i in range(len(msg)):\n",
        "        char = msg[i]\n",
        "        if char.isupper():\n",
        "            decrypted_char = chr((ord(char) - ord(key[i]) + 26) % 26 + ord('A'))  # Fixed decryption logic\n",
        "        elif char.islower():\n",
        "            decrypted_char = chr((ord(char) - ord(key[i]) + 26) % 26 + ord('a'))  # Fixed decryption logic\n",
        "        else:\n",
        "            decrypted_char = char\n",
        "        decrypted_text.append(decrypted_char)\n",
        "    return \"\".join(decrypted_text)\n",
        "\n",
        "text_to_encrypt = \"Hello, World!\"\n",
        "key = \"KEY\"\n",
        "encrypted_text = encrypt_vigenere(text_to_encrypt, key)\n",
        "print(f\"Encrypted text: {encrypted_text}\")\n",
        "decrypted_text = decrypt_vigenere(encrypted_text, key)\n",
        "print(f\"Decrypted text: {decrypted_text}\")  # Added the missing closing curly brace"
      ],
      "metadata": {
        "colab": {
          "base_uri": "https://localhost:8080/"
        },
        "id": "u0yr2Xxw5ENa",
        "outputId": "b789f591-abc4-479a-d3b8-0d94fb0d1840"
      },
      "execution_count": null,
      "outputs": [
        {
          "output_type": "stream",
          "name": "stdout",
          "text": [
            "Encrypted text: Rcdpm, Agvjv!\n",
            "Decrypted text: Hello, World!\n"
          ]
        }
      ]
    },
    {
      "cell_type": "code",
      "source": [
        "def create_matrix(key):\n",
        "    key = ''.join(sorted(set(key), key=lambda x: key.index(x)))  # Removing duplicates while preserving order\n",
        "    matrix = []\n",
        "    alphabet = 'ABCDEFGHIKLMNOPQRSTUVWXYZ'  # I and J are usually combined in Playfair\n",
        "\n",
        "    # Fill the matrix with the key first\n",
        "    for char in key:\n",
        "        if char not in matrix:\n",
        "            matrix.append(char)\n",
        "\n",
        "    # Fill the rest of the matrix with the remaining letters of the alphabet\n",
        "    for char in alphabet:\n",
        "        if char not in matrix:\n",
        "            matrix.append(char)\n",
        "\n",
        "    return matrix\n",
        "\n",
        "# Function to print the matrix\n",
        "def print_matrix(matrix):\n",
        "    print(\"Playfair Matrix:\")\n",
        "    for i in range(0, 25, 5):  # Print 5 letters per row (5x5 matrix)\n",
        "        print(' '.join(matrix[i:i+5]))\n",
        "    print()\n",
        "\n",
        "# Function to prepare the text by making digraphs\n",
        "def prepare_text(text):\n",
        "    text = text.upper().replace('J', 'I')  # 'J' is treated as 'I' in Playfair\n",
        "    # If the text has an odd number of characters, append 'X'\n",
        "    if len(text) % 2 != 0:\n",
        "        text += 'X'\n",
        "\n",
        "    digraphs = []\n",
        "    for i in range(0, len(text), 2):\n",
        "        digraphs.append(text[i:i+2])\n",
        "\n",
        "    return digraphs\n",
        "\n",
        "# Function to find the position of a character in the matrix\n",
        "def find_position(matrix, char):\n",
        "    index = matrix.index(char)\n",
        "    return index // 5, index % 5\n",
        "\n",
        "# Function to encrypt a message using the Playfair Cipher\n",
        "def encrypt(plaintext, key):\n",
        "    matrix = create_matrix(key)\n",
        "    print_matrix(matrix)\n",
        "\n",
        "    digraphs = prepare_text(plaintext)\n",
        "    ciphertext = []\n",
        "\n",
        "    for digraph in digraphs:\n",
        "        r1, c1 = find_position(matrix, digraph[0])\n",
        "        r2, c2 = find_position(matrix, digraph[1])\n",
        "\n",
        "        if r1 == r2:  # Same row\n",
        "            c1 = (c1 + 1) % 5\n",
        "            c2 = (c2 + 1) % 5\n",
        "        elif c1 == c2:  # Same column\n",
        "            r1 = (r1 + 1) % 5\n",
        "            r2 = (r2 + 1) % 5\n",
        "        else:  # Rectangle case\n",
        "            c1, c2 = c2, c1\n",
        "\n",
        "        ciphertext.append(matrix[r1 * 5 + c1] + matrix[r2 * 5 + c2])\n",
        "\n",
        "    return ''.join(ciphertext)\n",
        "\n",
        "# Function to decrypt a message using the Playfair Cipher\n",
        "def decrypt(ciphertext, key):\n",
        "    matrix = create_matrix(key)\n",
        "    print_matrix(matrix)\n",
        "\n",
        "    digraphs = [ciphertext[i:i+2] for i in range(0, len(ciphertext), 2)]\n",
        "    plaintext = []\n",
        "\n",
        "    for digraph in digraphs:\n",
        "        r1, c1 = find_position(matrix, digraph[0])\n",
        "        r2, c2 = find_position(matrix, digraph[1])\n",
        "\n",
        "        if r1 == r2:  # Same row\n",
        "            c1 = (c1 - 1) % 5\n",
        "            c2 = (c2 - 1) % 5\n",
        "        elif c1 == c2:  # Same column\n",
        "            r1 = (r1 - 1) % 5\n",
        "            r2 = (r2 - 1) % 5\n",
        "        else:  # Rectangle case\n",
        "            c1, c2 = c2, c1\n",
        "\n",
        "        plaintext.append(matrix[r1 * 5 + c1] + matrix[r2 * 5 + c2])\n",
        "\n",
        "    return ''.join(plaintext).replace('X', '')\n",
        "\n",
        "# Main logic\n",
        "# Changed _name_ to __name__ to correctly check if the script is the main program\n",
        "if __name__ == \"__main__\":\n",
        "    key = \"ICLOUDEMS\"\n",
        "    plaintext = \"vardhaman\"\n",
        "\n",
        "    # Encrypt the message\n",
        "    encrypted = encrypt(plaintext, key)\n",
        "    print(\"Encrypted:\", encrypted)\n",
        "\n",
        "    # Decrypt the message\n",
        "    decrypted = decrypt(encrypted, key)\n",
        "    print(\"Decrypted:\", decrypted)"
      ],
      "metadata": {
        "colab": {
          "base_uri": "https://localhost:8080/"
        },
        "id": "MKFC4rHY5GjL",
        "outputId": "21569db5-539c-4181-cfc2-de03e150b1c7"
      },
      "execution_count": null,
      "outputs": [
        {
          "output_type": "stream",
          "name": "stdout",
          "text": [
            "Playfair Matrix:\n",
            "I C L O U\n",
            "D E M S A\n",
            "B F G H K\n",
            "N P Q R T\n",
            "V W X Y Z\n",
            "\n",
            "Encrypted: ZDNSKSSDQV\n",
            "Playfair Matrix:\n",
            "I C L O U\n",
            "D E M S A\n",
            "B F G H K\n",
            "N P Q R T\n",
            "V W X Y Z\n",
            "\n",
            "Decrypted: VARDHAMAN\n"
          ]
        }
      ]
    }
  ]
}