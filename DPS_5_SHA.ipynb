{
  "nbformat": 4,
  "nbformat_minor": 0,
  "metadata": {
    "colab": {
      "provenance": [],
      "include_colab_link": true
    },
    "kernelspec": {
      "name": "python3",
      "display_name": "Python 3"
    },
    "language_info": {
      "name": "python"
    }
  },
  "cells": [
    {
      "cell_type": "markdown",
      "metadata": {
        "id": "view-in-github",
        "colab_type": "text"
      },
      "source": [
        "<a href=\"https://colab.research.google.com/github/ChapelFob80930/DPS-Lab/blob/main/DPS_5_SHA.ipynb\" target=\"_parent\"><img src=\"https://colab.research.google.com/assets/colab-badge.svg\" alt=\"Open In Colab\"/></a>"
      ]
    },
    {
      "cell_type": "code",
      "execution_count": null,
      "metadata": {
        "id": "B9piyBZ5tt7Q"
      },
      "outputs": [],
      "source": [
        "import hashlib"
      ]
    },
    {
      "cell_type": "code",
      "source": [
        "def generate_sha256_hash(data):\n",
        "  return hashlib.sha256(data.encode()).hexdigest()"
      ],
      "metadata": {
        "id": "8FK3O7SWtyc6"
      },
      "execution_count": null,
      "outputs": []
    },
    {
      "cell_type": "code",
      "source": [],
      "metadata": {
        "id": "jGyGxwZ77Ub7"
      },
      "execution_count": null,
      "outputs": []
    },
    {
      "cell_type": "code",
      "source": [
        "def verify_data_integrity(original_data, received_data):\n",
        "  original_hash = generate_sha256_hash(original_data)\n",
        "  received_hash = generate_sha256_hash(received_data)\n",
        "  if original_hash == received_hash:\n",
        "    print(\"Data integrity verified! No tampering detected.\")\n",
        "  else:\n",
        "    print(\"Data has been tampered with!\")"
      ],
      "metadata": {
        "id": "cO4K4YxIt7Gj"
      },
      "execution_count": null,
      "outputs": []
    },
    {
      "cell_type": "code",
      "source": [
        "original_data = \"Secure Hash Algorithm ensures data integrity.\"\n",
        "tampered_data = \"Secure Hash Algorithm ensures data security.\""
      ],
      "metadata": {
        "id": "_tnCVfcguK1N"
      },
      "execution_count": null,
      "outputs": []
    },
    {
      "cell_type": "code",
      "source": [
        "original_hash = generate_sha256_hash(original_data)\n",
        "print(\"Original Data Hash:\", original_hash)"
      ],
      "metadata": {
        "colab": {
          "base_uri": "https://localhost:8080/"
        },
        "id": "TyBAUWu8yHgR",
        "outputId": "447d9aa4-4d80-42c1-c8ba-851806ebb1a2"
      },
      "execution_count": null,
      "outputs": [
        {
          "output_type": "stream",
          "name": "stdout",
          "text": [
            "Original Data Hash: 5557efc2597e31b6a6b4345e10c7a4203cd6890bcbca568ed0e5b6484a47a21d\n"
          ]
        }
      ]
    },
    {
      "cell_type": "code",
      "source": [
        "verify_data_integrity(original_data, tampered_data)\n",
        "verify_data_integrity(original_data, original_data)"
      ],
      "metadata": {
        "colab": {
          "base_uri": "https://localhost:8080/"
        },
        "id": "HTZwj5PauzEy",
        "outputId": "1499f665-31b5-4ffd-c8a2-20470ce366ec"
      },
      "execution_count": null,
      "outputs": [
        {
          "output_type": "stream",
          "name": "stdout",
          "text": [
            "Data has been tampered with!\n",
            "Data integrity verified! No tampering detected.\n"
          ]
        }
      ]
    },
    {
      "cell_type": "code",
      "source": [],
      "metadata": {
        "id": "Juo4uHsHv_aP"
      },
      "execution_count": null,
      "outputs": []
    }
  ]
}