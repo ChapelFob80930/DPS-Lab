{
  "nbformat": 4,
  "nbformat_minor": 0,
  "metadata": {
    "colab": {
      "provenance": [],
      "authorship_tag": "ABX9TyM9nlBWejnqKSYlPUYDLMOZ",
      "include_colab_link": true
    },
    "kernelspec": {
      "name": "python3",
      "display_name": "Python 3"
    },
    "language_info": {
      "name": "python"
    }
  },
  "cells": [
    {
      "cell_type": "markdown",
      "metadata": {
        "id": "view-in-github",
        "colab_type": "text"
      },
      "source": [
        "<a href=\"https://colab.research.google.com/github/ChapelFob80930/DPS-Lab/blob/main/DPS_lab_question_3.ipynb\" target=\"_parent\"><img src=\"https://colab.research.google.com/assets/colab-badge.svg\" alt=\"Open In Colab\"/></a>"
      ]
    },
    {
      "cell_type": "code",
      "execution_count": null,
      "metadata": {
        "colab": {
          "base_uri": "https://localhost:8080/"
        },
        "id": "N-WMDVYlQogT",
        "outputId": "cd85533b-7405-4515-f5f4-fce93722b719"
      },
      "outputs": [
        {
          "output_type": "stream",
          "name": "stdout",
          "text": [
            "##Before anonymization##\n",
            "               Name  Age  Gender Blood Group       City Pincode  \\\n",
            "0        bhai Kumar   29    Male          B+      Delhi  110001   \n",
            "1     Priya shankar   35  Female          O-     Mumbai  400001   \n",
            "2       Amit biswas   42    Male          A+  Bangalore  560001   \n",
            "3  Anjali choudhary   26  Female         AB+    Kolkata  700001   \n",
            "4     Vikram shetty   38    Male          B-    Chennai  600001   \n",
            "5   Neha chatterjee   31  Female          O+  Hyderabad  500001   \n",
            "\n",
            "                          Email  Salary       Disease  \n",
            "0          bhai.kumar@gmail.com   45000          None  \n",
            "1       priya.shankar@gmail.com   55000        Asthma  \n",
            "2         amit.biswas@gmail.com   60000          None  \n",
            "3  anjali.choudhary@hotmail.com   40000          None  \n",
            "4     vikram.shetty@hotmail.com   70000  Hypertension  \n",
            "5     neha.chatterjee@yahoo.com   65000          None  \n",
            "##After anonymization##\n",
            "               Name    Age  Gender Blood Group       City Pincode  \\\n",
            "0        bhai Kumar  20-30    Male          B+      Delhi  1100XX   \n",
            "1     Priya shankar  30-40  Female          O-     Mumbai  4000XX   \n",
            "2       Amit biswas  40-50    Male          A+  Bangalore  5600XX   \n",
            "3  Anjali choudhary  20-30  Female         AB+    Kolkata  7000XX   \n",
            "4     Vikram shetty  30-40    Male          B-    Chennai  6000XX   \n",
            "5   Neha chatterjee  30-40  Female          O+  Hyderabad  5000XX   \n",
            "\n",
            "                    Email  Salary       Disease  \n",
            "0        bhai.kumar@*.com   45000          None  \n",
            "1     priya.shankar@*.com   55000        Asthma  \n",
            "2       amit.biswas@*.com   60000          None  \n",
            "3  anjali.choudhary@*.com   40000          None  \n",
            "4     vikram.shetty@*.com   70000  Hypertension  \n",
            "5   neha.chatterjee@*.com   65000          None  \n"
          ]
        }
      ],
      "source": [
        "import pandas as pd\n",
        "\n",
        "\n",
        "data = {\n",
        "    'Name': ['bhai Kumar', 'Priya shankar', 'Amit biswas', 'Anjali choudhary', 'Vikram shetty', 'Neha chatterjee'],\n",
        "    'Age': [29, 35, 42, 26, 38, 31],\n",
        "    'Gender': ['Male', 'Female', 'Male', 'Female', 'Male', 'Female'],\n",
        "    'Blood Group': ['B+', 'O-', 'A+', 'AB+', 'B-', 'O+'],\n",
        "    'City': ['Delhi', 'Mumbai', 'Bangalore', 'Kolkata', 'Chennai', 'Hyderabad'],\n",
        "    'Pincode': ['110001', '400001', '560001', '700001', '600001', '500001'],\n",
        "    'Email': ['bhai.kumar@gmail.com', 'priya.shankar@gmail.com', 'amit.biswas@gmail.com',\n",
        "              'anjali.choudhary@hotmail.com', 'vikram.shetty@hotmail.com', 'neha.chatterjee@yahoo.com'],\n",
        "    'Salary': [45000, 55000, 60000, 40000, 70000, 65000],\n",
        "    'Disease': ['None', 'Asthma', 'None', 'None', 'Hypertension', 'None']\n",
        "}\n",
        "\n",
        "\n",
        "df = pd.DataFrame(data)\n",
        "\n",
        "print(\"##Before anonymization##\")\n",
        "print(df)\n",
        "\n",
        "\n",
        "age_bins = [20, 30, 40, 50, 60]\n",
        "age_labels = ['20-30', '30-40', '40-50', '50+']\n",
        "\n",
        "\n",
        "df['Age'] = pd.cut(df['Age'], bins=age_bins, labels=age_labels, right=False)\n",
        "\n",
        "df['Pincode'] = df['Pincode'].apply(lambda x: x[:-2] + 'XX')\n",
        "\n",
        "\n",
        "\n",
        "def mask_email(email):\n",
        "    username, domain = email.split('@')\n",
        "    return username + '@*.com'\n",
        "\n",
        "df['Email'] = df['Email'].apply(mask_email)\n",
        "\n",
        "print(\"##After anonymization##\")\n",
        "print(df)"
      ]
    }
  ]
}