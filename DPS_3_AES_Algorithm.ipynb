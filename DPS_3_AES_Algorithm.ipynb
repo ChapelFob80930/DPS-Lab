{
  "nbformat": 4,
  "nbformat_minor": 0,
  "metadata": {
    "colab": {
      "provenance": [],
      "include_colab_link": true
    },
    "kernelspec": {
      "name": "python3",
      "display_name": "Python 3"
    },
    "language_info": {
      "name": "python"
    }
  },
  "cells": [
    {
      "cell_type": "markdown",
      "metadata": {
        "id": "view-in-github",
        "colab_type": "text"
      },
      "source": [
        "<a href=\"https://colab.research.google.com/github/ChapelFob80930/DPS-Lab/blob/main/DPS_3_AES_Algorithm.ipynb\" target=\"_parent\"><img src=\"https://colab.research.google.com/assets/colab-badge.svg\" alt=\"Open In Colab\"/></a>"
      ]
    },
    {
      "source": [
        "!pip install pycryptodome\n",
        "from Crypto.Cipher import AES\n",
        "from Crypto.Util.Padding import pad, unpad\n",
        "from Crypto.Random import get_random_bytes"
      ],
      "cell_type": "code",
      "metadata": {
        "colab": {
          "base_uri": "https://localhost:8080/"
        },
        "id": "cstW_jX8mJTZ",
        "outputId": "30e0c658-3c2b-4298-e9b4-2c55156db54b"
      },
      "execution_count": null,
      "outputs": [
        {
          "output_type": "stream",
          "name": "stdout",
          "text": [
            "Requirement already satisfied: pycryptodome in /usr/local/lib/python3.11/dist-packages (3.21.0)\n"
          ]
        }
      ]
    },
    {
      "cell_type": "code",
      "source": [
        "# Function to encrypt data\n",
        "def encrypt_data(plain_text, key):\n",
        "  cipher = AES.new(key, AES.MODE_CBC)\n",
        "  iv = cipher.iv\n",
        "  encrypted_data = cipher.encrypt(pad(plain_text.encode(), AES.block_size))\n",
        "  return iv + encrypted_data"
      ],
      "metadata": {
        "id": "HILjjNzCl4eP"
      },
      "execution_count": null,
      "outputs": []
    },
    {
      "cell_type": "code",
      "source": [
        "# Function to decrypt data\n",
        "def decrypt_data(encrypted_data, key):\n",
        "  iv = encrypted_data[:16]\n",
        "  cipher = AES.new(key, AES.MODE_CBC, iv)\n",
        "  decrypted_data = unpad(cipher.decrypt(encrypted_data[16:]), AES.block_size)\n",
        "  return decrypted_data.decode()"
      ],
      "metadata": {
        "id": "OMI1VT7rmxWz"
      },
      "execution_count": null,
      "outputs": []
    },
    {
      "cell_type": "code",
      "source": [
        "key = get_random_bytes(16)\n",
        "#Example usage\n",
        "plain_text = \"H1 Arif \"\n",
        "encrypted_text = encrypt_data(plain_text, key)\n",
        "print(\"Encrypted:\", encrypted_text.hex())\n",
        "decrypted_text = decrypt_data(encrypted_text, key)\n",
        "print(\"Decrypted:\", decrypted_text)"
      ],
      "metadata": {
        "colab": {
          "base_uri": "https://localhost:8080/"
        },
        "id": "EtCO55oenJgH",
        "outputId": "661dd0e7-6c6d-40df-edb5-60c737086457"
      },
      "execution_count": null,
      "outputs": [
        {
          "output_type": "stream",
          "name": "stdout",
          "text": [
            "Encrypted: a53a2f3bfef9e969210e9b595d4c6ac848414a13d6e2abd94123b657ee0a0d0d\n",
            "Decrypted: H1 Arif \n"
          ]
        }
      ]
    },
    {
      "cell_type": "code",
      "source": [],
      "metadata": {
        "id": "WERjpN-ZnUwm"
      },
      "execution_count": null,
      "outputs": []
    }
  ]
}