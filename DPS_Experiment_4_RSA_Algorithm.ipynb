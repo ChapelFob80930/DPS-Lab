{
  "nbformat": 4,
  "nbformat_minor": 0,
  "metadata": {
    "colab": {
      "provenance": [],
      "authorship_tag": "ABX9TyOA1TDYr3X4vcCeARQQSws0",
      "include_colab_link": true
    },
    "kernelspec": {
      "name": "python3",
      "display_name": "Python 3"
    },
    "language_info": {
      "name": "python"
    }
  },
  "cells": [
    {
      "cell_type": "markdown",
      "metadata": {
        "id": "view-in-github",
        "colab_type": "text"
      },
      "source": [
        "<a href=\"https://colab.research.google.com/github/ChapelFob80930/DPS-Lab/blob/main/DPS_Experiment_4_RSA_Algorithm.ipynb\" target=\"_parent\"><img src=\"https://colab.research.google.com/assets/colab-badge.svg\" alt=\"Open In Colab\"/></a>"
      ]
    },
    {
      "cell_type": "code",
      "execution_count": 3,
      "metadata": {
        "colab": {
          "base_uri": "https://localhost:8080/"
        },
        "id": "l0s5P47lnU46",
        "outputId": "be679182-8a84-440e-bbe0-801fe5623f23"
      },
      "outputs": [
        {
          "output_type": "stream",
          "name": "stdout",
          "text": [
            "Enter your prime number: 31\n",
            "Enter your prime number: 13\n",
            "Public Key (e, n): (7, 403)\n",
            "Private Key (d, n): (103, 403)\n",
            "Enter your numerical message: 69\n",
            "Original Message: 69\n",
            "Encrypted Message: 121\n",
            "Decrypted Message: 69\n"
          ]
        }
      ],
      "source": [
        "def power(base, expo, m):\n",
        "    res = 1\n",
        "    base = base % m\n",
        "    for e in range(1,expo+1):\n",
        "      res = (res*base)\n",
        "    return res%m\n",
        "\n",
        "def modInverse(e, phi):\n",
        "    for d in range(2, phi):\n",
        "        if (e * d) % phi == 1:\n",
        "            return d\n",
        "    return -1\n",
        "\n",
        "def generateKeys():\n",
        "    p = int(input(\"Enter your prime number: \"))\n",
        "    q = int(input(\"Enter your prime number: \"))\n",
        "    n = p * q\n",
        "    phi = (p - 1) * (q - 1)\n",
        "\n",
        "    e = 0\n",
        "    for e in range(2, phi):\n",
        "        if gcd(e, phi) == 1:\n",
        "            break\n",
        "\n",
        "    d = modInverse(e, phi)\n",
        "\n",
        "    return e, d, n\n",
        "\n",
        "def gcd(a, b):\n",
        "    while b != 0:\n",
        "        a, b = b, a % b\n",
        "    return a\n",
        "\n",
        "def encrypt(m, e, n):\n",
        "    return power(m, e, n)\n",
        "\n",
        "def decrypt(c, d, n):\n",
        "    return power(c, d, n)\n",
        "\n",
        "# Main execution\n",
        "if __name__ == \"__main__\":\n",
        "\n",
        "    # Key Generation\n",
        "    e, d, n = generateKeys()\n",
        "\n",
        "    print(f\"Public Key (e, n): ({e}, {n})\")\n",
        "    print(f\"Private Key (d, n): ({d}, {n})\")\n",
        "\n",
        "    # Message\n",
        "    M = int(input(\"Enter your numerical message: \"))\n",
        "    print(f\"Original Message: {M}\")\n",
        "\n",
        "    # Encrypt the message\n",
        "    C = encrypt(M, e, n)\n",
        "    print(f\"Encrypted Message: {C}\")\n",
        "\n",
        "    # Decrypt the message\n",
        "    decrypted = decrypt(C, d, n)\n",
        "    print(f\"Decrypted Message: {decrypted}\")\n"
      ]
    },
    {
      "cell_type": "code",
      "source": [],
      "metadata": {
        "id": "E04h2LDUq8pN"
      },
      "execution_count": null,
      "outputs": []
    }
  ]
}